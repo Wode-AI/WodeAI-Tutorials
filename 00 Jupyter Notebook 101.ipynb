{
 "cells": [
  {
   "cell_type": "markdown",
   "metadata": {},
   "source": [
    "# Jupyter Notebook 101\n",
    "<img width=\"500\" src=\"images/jupyter-main.png\" />\n",
    "If you are not familiar with Jupyter, after going through these five notebooks, you will be comfortable with this powerful too.\n",
    "\n",
    "## [01 What is the Jupyter Notebook](./01 What is the Jupyter Notebook.ipynb)\n",
    "\n",
    "## [02 Notebook Basics](./02 Notebook Basics.ipynb)\n",
    "\n",
    "## [03 Running Code in Notebook](./03 Running Code in Notebook.ipynb)\n",
    "\n",
    "## [04 Quick Tips in Jupyter](./04 Quick Tips in Jupyter.ipynb)\n",
    "\n",
    "## [05 Working With Markdown Cells](./05 Working With Markdown Cells.ipynb)"
   ]
  }
 ],
 "metadata": {
  "kernelspec": {
   "display_name": "Python 3",
   "language": "python",
   "name": "python3"
  },
  "language_info": {
   "codemirror_mode": {
    "name": "ipython",
    "version": 3
   },
   "file_extension": ".py",
   "mimetype": "text/x-python",
   "name": "python",
   "nbconvert_exporter": "python",
   "pygments_lexer": "ipython3",
   "version": "3.6.2"
  }
 },
 "nbformat": 4,
 "nbformat_minor": 2
}
