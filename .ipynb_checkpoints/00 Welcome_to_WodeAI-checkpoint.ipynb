{
 "cells": [
  {
   "cell_type": "markdown",
   "metadata": {
    "collapsed": true
   },
   "source": [
    "## What is Try.Wode.AI? \n",
    "Try. Build. Launch. They are the three steps of creating AI applications. WodeAI’s mission is to help people and companies get them easier and quicker.   \n",
    "\n",
    "Try.Wode.AI, as the first step, is to helps people learn AI skills, by finding useful materials quicker and getting hands-on experiences easier. Users can try all the different pre-created models or tools.\n",
    "## What is a Jupyter notebook?\n",
    "The Jupyter notebook extends the console-based approach to interactive computing in a qualitatively new direction, providing a web-based application suitable for capturing the whole computation process: developing, documenting, and executing code, as well as communicating the results. You also get Terminal/Shell access to your own Linux environment which you can use for git, file, etc. operations.  \n",
    "\n",
    "Try.Wode.AI currently supports Python 2, Python 3, R, and Julia, and their popular packages. We have pre-built a few different types of servers, for different general purposes. Currently we have Data Science, Deep Learning, and NLP. GPU server and RStudio server are in testing phase. We hope to roll them out soon!\n",
    "## What are the usage scenarios?\n",
    "Since Jupyter notebooks is a general code authoring, execution and sharing platform, you can use it for many diverse scenarios:  \n",
    "* Learn Python, or R, or many other languages. \n",
    "* Learn all AI related skills, Data Science, Machine Learning, and Deep Learning.\n",
    "* Use it for teaching in class, or conference or workshop.\n",
    "* Quickly checkout a new tools! \n",
    "\n",
    "## What are the service limitations?\n",
    "All your code and data will be removed, when the running session is shut down. You need to download the files or push to git before they are gone.  \n",
    "\n",
    "Each user can have no more than 3GB memory for Data Science, but 5GB for NLP and Deep Learning. \n",
    "## What are the courses?\n",
    "To help users get a quick start on different domains, we have not only selected a wide range of fabulous repositories for them, but also installed most of the required packages, connected the involved datasets, and corrected errors that are caused by missing data or upgraded versions of library dependencies.  \n",
    "\n",
    "You can go through our collection of courses. On each course’s primary page, we added the level of difficulty and estimated learning hours, in addition to other basic information. In the table of contents, I suggest you read the README file, which are originally provided by repo authors. You can ignore the install or clone instructions in some of README files, since we have already prepared the packages for you. Just click the “Take this course!” button to kick off your study.\n",
    "## How to contact WodeAI folks? \n",
    "We love the open source way of communicating. Please create an issue on our github repo, should you have any questions or requests. We will response as quick as we can.  \n",
    "Follow us on twitter: @wode_ai  \n",
    "Email: hi@wode.ai  "
   ]
  }
 ],
 "metadata": {
  "kernelspec": {
   "display_name": "Python 3",
   "language": "python",
   "name": "python3"
  },
  "language_info": {
   "codemirror_mode": {
    "name": "ipython",
    "version": 3
   },
   "file_extension": ".py",
   "mimetype": "text/x-python",
   "name": "python",
   "nbconvert_exporter": "python",
   "pygments_lexer": "ipython3",
   "version": "3.6.2"
  }
 },
 "nbformat": 4,
 "nbformat_minor": 2
}
