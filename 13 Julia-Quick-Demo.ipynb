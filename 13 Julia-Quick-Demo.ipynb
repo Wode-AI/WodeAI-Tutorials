{
 "cells": [
  {
   "cell_type": "markdown",
   "metadata": {},
   "source": [
    "<div style=\"text-align: center\"><img width=100px src=\"images/gadfly-logo.png\"></div>\n",
    "\n",
    "Gadfly is a system for plotting and visualization based largely on Hadley\n",
    "Wickhams's [ggplot2](http://ggplot2.org/) for R, and Leland Wilkinson's book\n",
    "[The Grammar of Graphics](http://www.cs.uic.edu/~wilkinson/TheGrammarOfGraphics/GOG.html).\n",
    "\n",
    "# Getting Started\n",
    "\n",
    "From the Julia REPL a reasonably up to date version can be installed with"
   ]
  },
  {
   "cell_type": "code",
   "execution_count": null,
   "metadata": {
    "collapsed": true
   },
   "outputs": [],
   "source": [
    "#Pkg.add(\"Gadfly\") # Note: already installed in this demo."
   ]
  },
  {
   "cell_type": "markdown",
   "metadata": {},
   "source": [
    "This will likely result in half a dozen or so other packages also being installed.\n",
    "\n",
    "Gadfly is then loaded with"
   ]
  },
  {
   "cell_type": "code",
   "execution_count": null,
   "metadata": {},
   "outputs": [],
   "source": [
    "using Gadfly"
   ]
  },
  {
   "cell_type": "markdown",
   "metadata": {},
   "source": [
    "# Plot invocations\n",
    "\n",
    "Most interaction with Gadfly is through the `plot` function. Plots are described\n",
    "by binding data to **aesthetics**, and specifying a number of plot elements\n",
    "including **scales**, **coordinates**, **guides**, and **geometries**.\n",
    "Aesthetics are a set of special named variables that are mapped to plot\n",
    "geometry. How this mapping occurs is defined by the plot elements.\n",
    "\n",
    "This \"grammar of graphics\" approach tries to avoid arcane incantations and\n",
    "special cases, instead approaching the problem as if one were drawing a wiring\n",
    "diagram: data is connected to aesthetics, which act as input leads, and\n",
    "elements, each self-contained with well-defined inputs and outputs, are\n",
    "connected and combined to produce the desired result.\n",
    "\n",
    "\n",
    "## Plotting arrays\n",
    "\n",
    "If no plot elements are defined, point geometry is added by default. The point\n",
    "geometry takes as input the `x` and `y` aesthetics. So all that's needed to draw\n",
    "a scatterplot is to bind `x` and `y`."
   ]
  },
  {
   "cell_type": "code",
   "execution_count": null,
   "metadata": {},
   "outputs": [],
   "source": [
    "plot(x=rand(10), y=rand(10))"
   ]
  },
  {
   "cell_type": "markdown",
   "metadata": {},
   "source": [
    "Multiple elements can use the same aesthetics to produce different output. Here the point and line geometries act on the same data and their results are layered."
   ]
  },
  {
   "cell_type": "code",
   "execution_count": null,
   "metadata": {},
   "outputs": [],
   "source": [
    "# E.g.\n",
    "plot(x=rand(10), y=rand(10), Geom.point, Geom.line)"
   ]
  },
  {
   "cell_type": "markdown",
   "metadata": {},
   "source": [
    "More complex plots can be produced by combining elements."
   ]
  },
  {
   "cell_type": "code",
   "execution_count": null,
   "metadata": {},
   "outputs": [],
   "source": [
    "# E.g.\n",
    "plot(x=1:40, y=2.^rand(40),\n",
    "     Scale.y_sqrt, Geom.point, Geom.smooth,\n",
    "     Guide.xlabel(\"Stimulus\"), Guide.ylabel(\"Response\"), Guide.title(\"Dog Training\"))"
   ]
  }
 ],
 "metadata": {
  "kernelspec": {
   "display_name": "Julia 0.5.2",
   "language": "julia",
   "name": "julia-0.5"
  },
  "language_info": {
   "file_extension": ".jl",
   "mimetype": "application/julia",
   "name": "julia",
   "version": "0.5.2"
  }
 },
 "nbformat": 4,
 "nbformat_minor": 1
}
